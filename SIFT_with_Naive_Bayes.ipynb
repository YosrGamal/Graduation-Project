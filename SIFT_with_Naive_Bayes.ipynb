{
  "nbformat": 4,
  "nbformat_minor": 0,
  "metadata": {
    "colab": {
      "provenance": []
    },
    "kernelspec": {
      "name": "python3",
      "display_name": "Python 3"
    },
    "language_info": {
      "name": "python"
    }
  },
  "cells": [
    {
      "cell_type": "code",
      "execution_count": null,
      "metadata": {
        "id": "0GCJ8zHwH87k"
      },
      "outputs": [],
      "source": [
        "from google.colab import drive\n",
        "drive.mount('/content/drive')"
      ]
    },
    {
      "cell_type": "code",
      "source": [
        "import os\n",
        "import numpy as np\n",
        "import cv2\n",
        "import pickle\n",
        "import random\n",
        "from sklearn.naive_bayes import GaussianNB\n",
        "from sklearn.model_selection import train_test_split\n",
        "from sklearn.svm import SVC\n",
        "from sklearn import metrics\n",
        "from skimage.io import imread\n",
        "from skimage.transform import resize\n",
        "from skimage.feature import hog\n",
        "from skimage import exposure\n",
        "import matplotlib.pyplot as plt\n",
        "from argparse import ArgumentParser\n",
        "import argparse\n",
        "from sklearn.svm import LinearSVC\n",
        "from skimage import feature"
      ],
      "metadata": {
        "id": "7_1pcjtbIWxc"
      },
      "execution_count": null,
      "outputs": []
    },
    {
      "cell_type": "code",
      "source": [
        "dir = '/content/drive/Shareddrives/Graduation Project/Dataset/Teeth images'\n",
        "categories = ['Afradapis', 'Elephants', 'Hyrax' , 'Masrasector' , 'Sharks']\n",
        "images = []\n",
        "data = []"
      ],
      "metadata": {
        "id": "ej0iGw2bIeMw"
      },
      "execution_count": null,
      "outputs": []
    },
    {
      "cell_type": "code",
      "source": [
        "for category in categories:\n",
        "    path = os.path.join(dir,category)\n",
        "    label = categories.index(category)\n",
        "    \n",
        "    for img in os.listdir(path):\n",
        "        imgpath = os.path.join(path,img)\n",
        "        datimage = cv2.imread(imgpath,0)\n",
        "        datimage = cv2.resize(datimage,(128, 256))\n",
        "        image = np.array(datimage).flatten()\n",
        "        # hog_desc = feature.hog(datimage, orientations=9, pixels_per_cell=(8, 8),cells_per_block=(2, 2), transform_sqrt=True, block_norm='L2-Hys')\n",
        "        \n",
        "        data.append([sift_desc,label])\n",
        "\n",
        "pick_in = open('feature_extraction.pickle','wb')\n",
        "pickle.dump(data,pick_in)\n",
        "pick_in.close()"
      ],
      "metadata": {
        "id": "doMfIeEWIjVV"
      },
      "execution_count": null,
      "outputs": []
    },
    {
      "cell_type": "code",
      "source": [
        "pick_in = open('feature_extraction.pickle','rb')\n",
        "data = pickle.load(pick_in)\n",
        "pick_in.close()"
      ],
      "metadata": {
        "id": "Xhn7Th-IImpK"
      },
      "execution_count": null,
      "outputs": []
    },
    {
      "cell_type": "code",
      "source": [
        "for feature, label in data:\n",
        "    features.append(feature)\n",
        "    labels.append(label)\n"
      ],
      "metadata": {
        "id": "Ep9NzeguIn-Z"
      },
      "execution_count": null,
      "outputs": []
    },
    {
      "cell_type": "code",
      "source": [
        "xtrain, xtest, ytrain, ytest =train_test_split(\n",
        "   features,labels,test_size = 0.30, \n",
        ")"
      ],
      "metadata": {
        "id": "WXo-LKesIqjN"
      },
      "execution_count": null,
      "outputs": []
    },
    {
      "cell_type": "code",
      "source": [
        "prediction = model.predict(xtest)\n",
        "accuracy = model.score(xtest, ytest)\n",
        "\n",
        "print('Accuracy: ',accuracy)\n",
        "\n",
        "# print(\"Confusion matrix:\",)\n",
        "print(\"Precision:\",metrics.precision_score(ytest, prediction, pos_label='positive',average= 'weighted'))\n",
        "print(\"Recall:\",metrics.recall_score(ytest, prediction,pos_label='positive',average= 'weighted'))"
      ],
      "metadata": {
        "id": "pjqiLVpzIuHf"
      },
      "execution_count": null,
      "outputs": []
    }
  ]
}