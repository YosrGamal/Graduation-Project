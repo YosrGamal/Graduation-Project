{
 "cells": [
  {
   "cell_type": "code",
   "execution_count": null,
   "metadata": {},
   "outputs": [],
   "source": [
    "import matplotlib.pyplot as plt\n",
    "import numpy as np \n",
    "import os \n",
    "import PIL\n",
    "import tensorflow as tf\n",
    "from tensorflow import keras \n",
    "from tensorflow.keras import layers \n",
    "from tensorflow.keras.models import Sequential \n",
    "import time\n",
    "import keras \n",
    "import keras.backend as K \n",
    "from keras.models import Model\n",
    "from keras.layers import Input, Dense, Conv2D, Conv3D, DepthwiseConv2D, SeparableConv2D, Conv3DTranspose \n",
    "from keras.layers import Flatten, MaxPool2D, AvgPool2D, GlobalAvgPool2D, UpSampling2D, BatchNormalization \n",
    "from keras.layers import Concatenate, Add, Dropout, ReLU, Lambda, Activation, LeakyReLU, PReLU\n",
    "from IPython.display import SVG \n",
    "from keras.utils.vis_utils import model_to_dot\n",
    "from time import time \n",
    "import numpy as np\n",
    "import pathlib \n",
    "from keras_preprocessing.image import ImageDataGenerator\n",
    "from keras_preprocessing.image import img_to_array\n",
    "from keras_preprocessing.image import load_img"
   ]
  },
  {
   "cell_type": "code",
   "execution_count": null,
   "metadata": {},
   "outputs": [],
   "source": [
    "from google.colab import drive\n",
    "drive.mount('/content/drive')"
   ]
  },
  {
   "cell_type": "code",
   "execution_count": null,
   "metadata": {},
   "outputs": [],
   "source": [
    "dir = '/content/drive/Shareddrives/Graduation Project/Dataset/Teeth images'"
   ]
  },
  {
   "cell_type": "code",
   "execution_count": null,
   "metadata": {},
   "outputs": [],
   "source": [
    "train_datagen = ImageDataGenerator(rescale=1./255,\n",
    "    shear_range=0.2,\n",
    "    zoom_range=0.2,\n",
    "    horizontal_flip=True,\n",
    "    validation_split=0.2) \n",
    "\n",
    "train_ds = train_datagen.flow_from_directory(\n",
    "    dir,\n",
    "    target_size=(180, 180),\n",
    "    batch_size=30,\n",
    "    class_mode='categorical',\n",
    "    subset='training') # set as training data\n",
    "\n",
    "val_ds = train_datagen.flow_from_directory(\n",
    "    dir, # same directory as training data\n",
    "    target_size=(180, 180),\n",
    "    batch_size=30,\n",
    "    class_mode='categorical',\n",
    "    subset='validation') # set as validation data"
   ]
  },
  {
   "cell_type": "code",
   "execution_count": null,
   "metadata": {},
   "outputs": [],
   "source": [
    "def squeezenet (input_shape, n_classes):\n",
    "\n",
    " def fire(m, fs, fe):\n",
    "  s = Conv2D(fs, 1, activation='relu')(m)\n",
    "  e1 = Conv2D(fe, 1, activation='relu')(s)\n",
    "  e3 = Conv2D(fe, 3, padding= 'same', activation='relu')(s)\n",
    "  output = Concatenate()([e1, e3])\n",
    "  return output\n",
    "\n",
    " input = Input(input_shape)\n",
    "\n",
    " m = Conv2D(96, 7, strides=2, padding= 'same', activation='relu')(input)\n",
    " m = MaxPool2D(3, strides=2, padding='same')(m)\n",
    "\n",
    " m = fire(m, 16, 64)\n",
    " m = fire(m, 16, 64)\n",
    " m = fire(m, 32, 128)\n",
    " m = MaxPool2D (3,strides=2, padding= 'same')(m)\n",
    "\n",
    " m = fire(m, 32, 128)\n",
    " m = fire(m, 48, 192)\n",
    " m = fire(m, 48, 192)\n",
    " m = fire(m, 64, 256)\n",
    " m = MaxPool2D (3, strides=2, padding='same')(m)\n",
    "\n",
    " m = fire(m, 64, 256)\n",
    " m = Conv2D(n_classes, 1)(m)\n",
    " m = GlobalAvgPool2D()(m)  \n",
    "\n",
    " output = Activation('softmax')(m) \n",
    " model = Model(input, output)\n",
    " return model"
   ]
  },
  {
   "cell_type": "code",
   "execution_count": null,
   "metadata": {},
   "outputs": [],
   "source": [
    "input_shape=(180, 180,3) \n",
    "n_classes =5\n",
    "K.clear_session()\n",
    "model = squeezenet(input_shape, n_classes)\n",
    "model.summary ()\n"
   ]
  }
 ],
 "metadata": {
  "kernelspec": {
   "display_name": "Python 3",
   "language": "python",
   "name": "python3"
  },
  "language_info": {
   "name": "python",
   "version": "3.10.9 (tags/v3.10.9:1dd9be6, Dec  6 2022, 20:01:21) [MSC v.1934 64 bit (AMD64)]"
  },
  "orig_nbformat": 4,
  "vscode": {
   "interpreter": {
    "hash": "66eba28a75a64fbe1a9b9c30d27f7c856726c51cbbef86297708eae4ce175db0"
   }
  }
 },
 "nbformat": 4,
 "nbformat_minor": 2
}
