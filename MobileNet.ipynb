{
  "cells": [
    {
      "cell_type": "code",
      "execution_count": null,
      "metadata": {
        "id": "I1NNksjtJaPU"
      },
      "outputs": [],
      "source": [
        "import keras\n",
        "import numpy as np\n",
        "import cv2\n",
        "import argparse\n",
        "from imutils import paths\n",
        "import os\n",
        "import tensorflow as tf\n",
        "from tensorflow import keras\n",
        "from keras.models import Model\n",
        "from keras.layers import Dense\n",
        "from keras.models import Sequential\n",
        "from keras.layers import Dense, Conv2D, MaxPooling2D, Flatten\n",
        "import numpy as np\n",
        "import matplotlib.pyplot as plt\n",
        "import pandas as pd\n",
        "from sklearn.model_selection import train_test_split\n",
        "from keras_preprocessing.image import ImageDataGenerator"
      ]
    },
    {
      "cell_type": "code",
      "execution_count": null,
      "metadata": {
        "colab": {
          "base_uri": "https://localhost:8080/"
        },
        "id": "OsrnW9aZa6df",
        "outputId": "7e15f2b2-b083-4d9e-e3b6-6b84beb584b1"
      },
      "outputs": [
        {
          "name": "stdout",
          "output_type": "stream",
          "text": [
            "Drive already mounted at /content/drive; to attempt to forcibly remount, call drive.mount(\"/content/drive\", force_remount=True).\n"
          ]
        }
      ],
      "source": [
        "from google.colab import drive\n",
        "drive.mount('/content/drive')"
      ]
    },
    {
      "cell_type": "code",
      "execution_count": null,
      "metadata": {
        "id": "6bVrjidud4z5"
      },
      "outputs": [],
      "source": [
        "dataset = '/content/drive/Shareddrives/Graduation Project/Dataset/Teeth images'"
      ]
    },
    {
      "cell_type": "code",
      "execution_count": null,
      "metadata": {
        "colab": {
          "base_uri": "https://localhost:8080/"
        },
        "id": "eHZzyMdfd9tf",
        "outputId": "ad66387e-af25-4d48-c9c8-ad0d88564d3b"
      },
      "outputs": [
        {
          "name": "stdout",
          "output_type": "stream",
          "text": [
            "Found 591 images belonging to 5 classes.\n",
            "Found 145 images belonging to 5 classes.\n"
          ]
        }
      ],
      "source": [
        "train_datagen = ImageDataGenerator(rescale=1./255,\n",
        "    shear_range=0.2,\n",
        "    zoom_range=0.2,\n",
        "    horizontal_flip=True,\n",
        "    validation_split=0.2) \n",
        "\n",
        "train_generator = train_datagen.flow_from_directory(\n",
        "    dataset,\n",
        "    target_size=(160, 160),\n",
        "    batch_size=30,\n",
        "    class_mode='categorical',\n",
        "    subset='training') # set as training data\n",
        "\n",
        "validation_generator = train_datagen.flow_from_directory(\n",
        "    dataset, # same directory as training data\n",
        "    target_size=(160, 160),\n",
        "    batch_size=30,\n",
        "    class_mode='categorical',\n",
        "    subset='validation') # set as validation data"
      ]
    },
    {
      "cell_type": "code",
      "execution_count": null,
      "metadata": {
        "id": "NMYPTDNKeU3C"
      },
      "outputs": [],
      "source": [
        "image_size = 160\n",
        "IMG_SHAPE = (image_size, image_size, 3)"
      ]
    },
    {
      "cell_type": "code",
      "execution_count": null,
      "metadata": {
        "colab": {
          "base_uri": "https://localhost:8080/"
        },
        "id": "7rn7PAEteAjb",
        "outputId": "6769568a-acf4-4323-f075-289febbdbe38"
      },
      "outputs": [
        {
          "name": "stdout",
          "output_type": "stream",
          "text": [
            "Downloading data from https://storage.googleapis.com/tensorflow/keras-applications/mobilenet_v2/mobilenet_v2_weights_tf_dim_ordering_tf_kernels_1.0_160_no_top.h5\n",
            "9406464/9406464 [==============================] - 0s 0us/step\n"
          ]
        }
      ],
      "source": [
        "base_model = tf.keras.applications.MobileNetV2(input_shape=IMG_SHAPE,\n",
        "                                              include_top=False,\n",
        "                                              weights='imagenet')\n",
        "base_model.trainable = False"
      ]
    },
    {
      "cell_type": "code",
      "execution_count": null,
      "metadata": {
        "id": "PPcQaHBJXsNi"
      },
      "outputs": [],
      "source": [
        "model = tf.keras.Sequential([\n",
        "                          base_model,\n",
        "                          keras.layers.GlobalAveragePooling2D(),\n",
        "                          keras.layers.Dense(5, activation='sigmoid')])"
      ]
    },
    {
      "cell_type": "code",
      "execution_count": null,
      "metadata": {
        "id": "ikJwMmcaB7sx"
      },
      "outputs": [],
      "source": [
        "model.compile(optimizer=tf.keras.optimizers.RMSprop(lr=0.0001),\n",
        "              loss='categorical_crossentropy',\n",
        "              metrics=['accuracy'])"
      ]
    },
    {
      "cell_type": "code",
      "execution_count": null,
      "metadata": {
        "colab": {
          "base_uri": "https://localhost:8080/"
        },
        "id": "jMiXOgL9CGwD",
        "outputId": "124526f8-fa9f-425d-c2e3-fbb0c7525ae1"
      },
      "outputs": [
        {
          "name": "stdout",
          "output_type": "stream",
          "text": [
            "Epoch 1/20\n",
            "30/30 [==============================] - 307s 10s/step - loss: 1.2519 - accuracy: 0.5073 - val_loss: 0.7443 - val_accuracy: 0.7425\n",
            "Epoch 2/20\n",
            "30/30 [==============================] - 316s 10s/step - loss: 0.8185 - accuracy: 0.7654 - val_loss: 0.6606 - val_accuracy: 0.7874\n",
            "Epoch 3/20\n",
            "30/30 [==============================] - 311s 10s/step - loss: 0.7013 - accuracy: 0.7993 - val_loss: 0.5680 - val_accuracy: 0.8299\n",
            "Epoch 4/20\n",
            "30/30 [==============================] - 314s 10s/step - loss: 0.5954 - accuracy: 0.8288 - val_loss: 0.5099 - val_accuracy: 0.8529\n",
            "Epoch 5/20\n",
            "30/30 [==============================] - 309s 10s/step - loss: 0.5023 - accuracy: 0.8541 - val_loss: 0.4731 - val_accuracy: 0.8586\n",
            "Epoch 6/20\n",
            "30/30 [==============================] - 301s 10s/step - loss: 0.4556 - accuracy: 0.8664 - val_loss: 0.4255 - val_accuracy: 0.8517\n",
            "Epoch 7/20\n",
            "30/30 [==============================] - 310s 10s/step - loss: 0.4050 - accuracy: 0.8878 - val_loss: 0.4287 - val_accuracy: 0.8540\n",
            "Epoch 8/20\n",
            "30/30 [==============================] - 314s 10s/step - loss: 0.3803 - accuracy: 0.8878 - val_loss: 0.3721 - val_accuracy: 0.8667\n",
            "Epoch 9/20\n",
            "30/30 [==============================] - 310s 10s/step - loss: 0.3436 - accuracy: 0.8957 - val_loss: 0.3704 - val_accuracy: 0.8678\n",
            "Epoch 10/20\n",
            "30/30 [==============================] - 302s 10s/step - loss: 0.3289 - accuracy: 0.9070 - val_loss: 0.3549 - val_accuracy: 0.8667\n",
            "Epoch 11/20\n",
            "30/30 [==============================] - 295s 10s/step - loss: 0.2843 - accuracy: 0.9203 - val_loss: 0.3301 - val_accuracy: 0.8690\n",
            "Epoch 12/20\n",
            "30/30 [==============================] - 313s 10s/step - loss: 0.2759 - accuracy: 0.9150 - val_loss: 0.3369 - val_accuracy: 0.8701\n",
            "Epoch 13/20\n",
            "30/30 [==============================] - 301s 10s/step - loss: 0.2623 - accuracy: 0.9218 - val_loss: 0.3067 - val_accuracy: 0.8793\n",
            "Epoch 14/20\n",
            "30/30 [==============================] - 298s 10s/step - loss: 0.2460 - accuracy: 0.9282 - val_loss: 0.3170 - val_accuracy: 0.8724\n",
            "Epoch 15/20\n",
            "30/30 [==============================] - 311s 10s/step - loss: 0.2235 - accuracy: 0.9327 - val_loss: 0.3094 - val_accuracy: 0.8828\n",
            "Epoch 16/20\n",
            "30/30 [==============================] - 317s 10s/step - loss: 0.2087 - accuracy: 0.9388 - val_loss: 0.3059 - val_accuracy: 0.8770\n",
            "Epoch 17/20\n",
            "30/30 [==============================] - 311s 10s/step - loss: 0.1952 - accuracy: 0.9473 - val_loss: 0.2989 - val_accuracy: 0.8851\n",
            "Epoch 18/20\n",
            "30/30 [==============================] - 305s 10s/step - loss: 0.1970 - accuracy: 0.9410 - val_loss: 0.2921 - val_accuracy: 0.8828\n",
            "Epoch 19/20\n",
            "30/30 [==============================] - 317s 10s/step - loss: 0.1825 - accuracy: 0.9506 - val_loss: 0.2966 - val_accuracy: 0.8851\n",
            "Epoch 20/20\n",
            "30/30 [==============================] - 330s 10s/step - loss: 0.1793 - accuracy: 0.9467 - val_loss: 0.2792 - val_accuracy: 0.8897\n"
          ]
        }
      ],
      "source": [
        "epochs = 20\n",
        "steps_per_epoch = 30\n",
        "validation_steps = 30\n",
        "\n",
        "history = model.fit(train_generator,\n",
        "                              steps_per_epoch = steps_per_epoch,\n",
        "                              epochs=epochs,\n",
        "                              workers=4,\n",
        "                              validation_data=validation_generator,\n",
        "                              validation_steps=validation_steps)"
      ]
    },
    {
      "cell_type": "code",
      "execution_count": null,
      "metadata": {
        "colab": {
          "base_uri": "https://localhost:8080/"
        },
        "id": "TJncCj2ieQvw",
        "outputId": "f5b9c15a-c4ca-4ba0-f02a-8823c4c45c10"
      },
      "outputs": [
        {
          "name": "stdout",
          "output_type": "stream",
          "text": [
            "5/5 [==============================] - 31s 6s/step - loss: 0.2692 - accuracy: 0.8966\n"
          ]
        },
        {
          "data": {
            "text/plain": [
              "[0.26924413442611694, 0.8965517282485962]"
            ]
          },
          "execution_count": 34,
          "metadata": {},
          "output_type": "execute_result"
        }
      ],
      "source": [
        "model.evaluate(validation_generator)"
      ]
    }
  ],
  "metadata": {
    "colab": {
      "provenance": []
    },
    "kernelspec": {
      "display_name": "Python 3",
      "language": "python",
      "name": "python3"
    },
    "language_info": {
      "name": "python",
      "version": "3.10.9 (tags/v3.10.9:1dd9be6, Dec  6 2022, 20:01:21) [MSC v.1934 64 bit (AMD64)]"
    },
    "vscode": {
      "interpreter": {
        "hash": "66eba28a75a64fbe1a9b9c30d27f7c856726c51cbbef86297708eae4ce175db0"
      }
    }
  },
  "nbformat": 4,
  "nbformat_minor": 0
}
