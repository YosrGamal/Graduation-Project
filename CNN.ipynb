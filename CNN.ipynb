{
  "nbformat": 4,
  "nbformat_minor": 0,
  "metadata": {
    "colab": {
      "provenance": []
    },
    "kernelspec": {
      "name": "python3",
      "display_name": "Python 3"
    },
    "language_info": {
      "name": "python"
    }
  },
  "cells": [
    {
      "cell_type": "code",
      "execution_count": null,
      "metadata": {
        "colab": {
          "base_uri": "https://localhost:8080/"
        },
        "id": "efdtT2EwrEtA",
        "outputId": "a77bf8d3-b129-4a97-e6eb-d4f22a07c5de"
      },
      "outputs": [
        {
          "output_type": "stream",
          "name": "stdout",
          "text": [
            "Mounted at /content/drive\n"
          ]
        }
      ],
      "source": [
        "from google.colab import drive\n",
        "drive.mount('/content/drive')"
      ]
    },
    {
      "cell_type": "code",
      "source": [
        "import numpy as np\n",
        "import cv2\n",
        "from google.colab.patches import cv2_imshow\n",
        "import matplotlib.pyplot as plt\n",
        "import tensorflow as tf\n",
        "from tensorflow.keras.preprocessing.image import ImageDataGenerator\n",
        "from tensorflow.keras.preprocessing.image import img_to_array\n",
        "from tensorflow.keras.preprocessing.image import load_img\n",
        "from tensorflow.keras.optimizers import RMSprop,SGD,Adam\n",
        "from sklearn.svm import SVR \n",
        "import argparse\n",
        "from imutils import paths\n",
        "import os\n",
        "\n",
        "import pandas as pd\n",
        "from sklearn.model_selection import train_test_split"
      ],
      "metadata": {
        "id": "H_qZ2HPurKtx"
      },
      "execution_count": null,
      "outputs": []
    },
    {
      "cell_type": "code",
      "source": [
        "train = '/content/drive/Shareddrives/Graduation Project/Dataset/Teeth Images Dataset'"
      ],
      "metadata": {
        "id": "Z1ZlljHv019u"
      },
      "execution_count": null,
      "outputs": []
    },
    {
      "cell_type": "code",
      "source": [
        "count = 0\n",
        "dir_path = r'/content/drive/Shareddrives/Graduation Project/Dataset/Teeth Images Dataset/Sharks'\n",
        "for path in os.scandir(dir_path):\n",
        "    if path.is_file():\n",
        "        count += 1\n",
        "print('images count:', count)"
      ],
      "metadata": {
        "colab": {
          "base_uri": "https://localhost:8080/"
        },
        "id": "9v0E2NjrH4BE",
        "outputId": "5727d489-e223-4c30-a1e7-768d421579a7"
      },
      "execution_count": null,
      "outputs": [
        {
          "output_type": "stream",
          "name": "stdout",
          "text": [
            "images count: 103\n"
          ]
        }
      ]
    },
    {
      "cell_type": "code",
      "source": [
        "train_datagen = ImageDataGenerator(rescale=1./255,\n",
        "    shear_range=0.2,\n",
        "    zoom_range=0.2,\n",
        "    horizontal_flip=True,\n",
        "    validation_split=0.2) \n",
        "\n",
        "train_generator = train_datagen.flow_from_directory(\n",
        "    train,\n",
        "    target_size=(180, 180),\n",
        "    batch_size=30,\n",
        "    class_mode='categorical',\n",
        "    subset='training') # set as training data\n",
        "\n",
        "validation_generator = train_datagen.flow_from_directory(\n",
        "    train, # same directory as training data\n",
        "    target_size=(180, 180),\n",
        "    batch_size=30,\n",
        "    class_mode='categorical',\n",
        "    subset='validation') # set as validation data"
      ],
      "metadata": {
        "colab": {
          "base_uri": "https://localhost:8080/"
        },
        "id": "k3H629-k3Vut",
        "outputId": "7ed517ba-153e-4fae-8e72-979353bec504"
      },
      "execution_count": null,
      "outputs": [
        {
          "output_type": "stream",
          "name": "stdout",
          "text": [
            "Found 591 images belonging to 5 classes.\n",
            "Found 145 images belonging to 5 classes.\n"
          ]
        }
      ]
    },
    {
      "cell_type": "code",
      "source": [
        "model = tf.keras.models.Sequential([\n",
        "    tf.keras.layers.Conv2D(16,(3,3),activation = \"relu\" , input_shape = (180,180,3)) ,\n",
        "    tf.keras.layers.MaxPooling2D(2,2),\n",
        "    tf.keras.layers.Conv2D(32,(3,3),activation = \"relu\") ,  \n",
        "    tf.keras.layers.MaxPooling2D(2,2),\n",
        "    tf.keras.layers.Conv2D(64,(3,3),activation = \"relu\") ,  \n",
        "    tf.keras.layers.MaxPooling2D(2,2),\n",
        "    tf.keras.layers.Conv2D(128,(3,3),activation = \"relu\"),  \n",
        "    tf.keras.layers.MaxPooling2D(2,2),\n",
        "    tf.keras.layers.Flatten(), \n",
        "    tf.keras.layers.Dense(550,activation=\"relu\"),      #Adding the Hidden layer\n",
        "    tf.keras.layers.Dropout(0.1,seed = 2019),\n",
        "    tf.keras.layers.Dense(400,activation =\"relu\"),\n",
        "    tf.keras.layers.Dropout(0.3,seed = 2019),\n",
        "    tf.keras.layers.Dense(300,activation=\"relu\"),\n",
        "    tf.keras.layers.Dropout(0.4,seed = 2019),\n",
        "    tf.keras.layers.Dense(200,activation =\"relu\"),\n",
        "    tf.keras.layers.Dropout(0.2,seed = 2019),\n",
        "    tf.keras.layers.Dense(5,activation = \"softmax\")   #Adding the Output Layer\n",
        "])"
      ],
      "metadata": {
        "id": "dxKLvdKn1zGW"
      },
      "execution_count": null,
      "outputs": []
    },
    {
      "cell_type": "code",
      "source": [
        "adam=Adam(learning_rate=0.001)\n",
        "model.compile(optimizer='adam', loss='categorical_crossentropy', metrics = ['acc'])"
      ],
      "metadata": {
        "id": "GXFiCwmL5bHk"
      },
      "execution_count": null,
      "outputs": []
    },
    {
      "cell_type": "code",
      "source": [
        "model.fit(x=train_generator,steps_per_epoch=len(train_generator),\n",
        "                    validation_data=validation_generator,\n",
        "                    validation_steps=len(validation_generator),\n",
        "                    # steps_per_epoch=150 // bs,\n",
        "                    epochs=10,\n",
        "                    verbose=1\n",
        "                    )"
      ],
      "metadata": {
        "colab": {
          "base_uri": "https://localhost:8080/"
        },
        "id": "9rkG2ayI5j0q",
        "outputId": "b8ee0cac-4b0a-4140-e1e9-762c17ea7bc4"
      },
      "execution_count": null,
      "outputs": [
        {
          "output_type": "stream",
          "name": "stdout",
          "text": [
            "Epoch 1/10\n",
            "20/20 [==============================] - 273s 14s/step - loss: 0.7832 - acc: 0.7174 - val_loss: 0.7136 - val_acc: 0.7241\n",
            "Epoch 2/10\n",
            "20/20 [==============================] - 196s 10s/step - loss: 0.7057 - acc: 0.7428 - val_loss: 0.7269 - val_acc: 0.7862\n",
            "Epoch 3/10\n",
            "20/20 [==============================] - 198s 10s/step - loss: 0.6838 - acc: 0.7699 - val_loss: 0.7266 - val_acc: 0.8207\n",
            "Epoch 4/10\n",
            "20/20 [==============================] - 196s 10s/step - loss: 0.6023 - acc: 0.8037 - val_loss: 0.6898 - val_acc: 0.7931\n",
            "Epoch 5/10\n",
            "20/20 [==============================] - 193s 10s/step - loss: 0.5374 - acc: 0.8190 - val_loss: 0.7354 - val_acc: 0.8069\n",
            "Epoch 6/10\n",
            "20/20 [==============================] - 199s 10s/step - loss: 0.5161 - acc: 0.8139 - val_loss: 0.7308 - val_acc: 0.8207\n",
            "Epoch 7/10\n",
            "20/20 [==============================] - 196s 10s/step - loss: 0.4622 - acc: 0.8562 - val_loss: 0.6315 - val_acc: 0.8621\n",
            "Epoch 8/10\n",
            "20/20 [==============================] - 195s 10s/step - loss: 0.5357 - acc: 0.8511 - val_loss: 0.8541 - val_acc: 0.7379\n",
            "Epoch 9/10\n",
            "20/20 [==============================] - 199s 10s/step - loss: 0.4710 - acc: 0.8562 - val_loss: 0.7617 - val_acc: 0.8483\n",
            "Epoch 10/10\n",
            "20/20 [==============================] - 196s 10s/step - loss: 0.4049 - acc: 0.8596 - val_loss: 0.5457 - val_acc: 0.8621\n"
          ]
        },
        {
          "output_type": "execute_result",
          "data": {
            "text/plain": [
              "<keras.callbacks.History at 0x7fc2ccaa7f70>"
            ]
          },
          "metadata": {},
          "execution_count": 18
        }
      ]
    },
    {
      "cell_type": "code",
      "source": [
        "model.evaluate(validation_generator)"
      ],
      "metadata": {
        "colab": {
          "base_uri": "https://localhost:8080/"
        },
        "id": "xat8QN3qJqov",
        "outputId": "6e12fae0-3727-4259-b37d-036f3efdd872"
      },
      "execution_count": null,
      "outputs": [
        {
          "output_type": "stream",
          "name": "stdout",
          "text": [
            "5/5 [==============================] - 46s 9s/step - loss: 0.5507 - acc: 0.8621\n"
          ]
        },
        {
          "output_type": "execute_result",
          "data": {
            "text/plain": [
              "[0.5507011413574219, 0.8620689511299133]"
            ]
          },
          "metadata": {},
          "execution_count": 19
        }
      ]
    },
    {
      "cell_type": "code",
      "source": [
        "pred = model.predict(validation_generator)"
      ],
      "metadata": {
        "colab": {
          "base_uri": "https://localhost:8080/"
        },
        "id": "uj5BZaqyKR1G",
        "outputId": "73cc3b0a-9406-4a21-dd59-45ead325ac6d"
      },
      "execution_count": null,
      "outputs": [
        {
          "output_type": "stream",
          "name": "stdout",
          "text": [
            "5/5 [==============================] - 36s 7s/step\n"
          ]
        }
      ]
    },
    {
      "cell_type": "code",
      "source": [
        "classes = [np.argmax(element) for element in pred]\n",
        "print('Predicted values:', classes[:10])\n",
        "# print('Actual values:', validation_generator[:10])"
      ],
      "metadata": {
        "colab": {
          "base_uri": "https://localhost:8080/"
        },
        "id": "ZBTcyUmgLps2",
        "outputId": "44dee320-de65-4bad-ce97-fd5b668e5378"
      },
      "execution_count": null,
      "outputs": [
        {
          "output_type": "stream",
          "name": "stdout",
          "text": [
            "Predicted values: [1, 4, 1, 0, 4, 4, 1, 1, 1, 4]\n"
          ]
        }
      ]
    }
  ]
}