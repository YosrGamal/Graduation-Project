{
  "nbformat": 4,
  "nbformat_minor": 0,
  "metadata": {
    "colab": {
      "provenance": []
    },
    "kernelspec": {
      "name": "python3",
      "display_name": "Python 3"
    },
    "language_info": {
      "name": "python"
    }
  },
  "cells": [
    {
      "cell_type": "code",
      "execution_count": 1,
      "metadata": {
        "id": "Tfa-Qd0pehMl"
      },
      "outputs": [],
      "source": [
        "import os\n",
        "import numpy as np\n",
        "import cv2\n",
        "import pickle\n",
        "import random\n",
        "from sklearn.naive_bayes import GaussianNB\n",
        "from sklearn.model_selection import train_test_split\n",
        "from sklearn import metrics\n",
        "from skimage.io import imread\n",
        "from skimage.transform import resize\n",
        "from skimage.feature import hog\n",
        "from skimage import exposure\n",
        "import matplotlib.pyplot as plt\n",
        "from argparse import ArgumentParser\n",
        "import argparse\n",
        "from skimage import feature"
      ]
    },
    {
      "cell_type": "code",
      "source": [
        "from google.colab import drive\n",
        "drive.mount('/content/drive')"
      ],
      "metadata": {
        "id": "Ww68AuL7fJaG"
      },
      "execution_count": null,
      "outputs": []
    },
    {
      "cell_type": "code",
      "source": [
        "dir_path = r'/content/drive/Shareddrives/Graduation Project/Dataset/Teeth images'\n",
        "categories = ['Afradapis', 'Elephants', 'Hyrax' , 'Masrasector' , 'Sharks']\n",
        "IMG_SIZE=100\n",
        "for category in categories:\n",
        "  path = os.path.join(dir_path,category)\n",
        "  for img in os.listdir(path):\n",
        "      img_array=cv2.imread(os.path.join(path,img))\n",
        "      plt.imshow(img_array)\n",
        "      plt.show()\n",
        "      break\n",
        "  break"
      ],
      "metadata": {
        "id": "fkbbPuD5fLuB"
      },
      "execution_count": null,
      "outputs": []
    },
    {
      "cell_type": "code",
      "source": [
        "training_data=[]\n",
        "def create_training_data():\n",
        "    for category in categories:\n",
        "        path=os.path.join(dir_path, category)\n",
        "        class_num=categories.index(category)\n",
        "        for img in os.listdir(path):\n",
        "            try:\n",
        "                img_array=cv2.imread(os.path.join(path,img))\n",
        "                new_array=cv2.resize(img_array,(IMG_SIZE,IMG_SIZE))\n",
        "                training_data.append([new_array,class_num])\n",
        "            except Exception as e:\n",
        "                pass\n",
        "create_training_data() "
      ],
      "metadata": {
        "id": "7tP28r8afT1M"
      },
      "execution_count": 5,
      "outputs": []
    },
    {
      "cell_type": "code",
      "source": [
        "print(len(training_data))"
      ],
      "metadata": {
        "id": "xre97ZRrfcYy"
      },
      "execution_count": null,
      "outputs": []
    },
    {
      "cell_type": "code",
      "source": [
        "lenofimage = len(training_data)"
      ],
      "metadata": {
        "id": "VhIJIXSNfdAr"
      },
      "execution_count": 7,
      "outputs": []
    },
    {
      "cell_type": "code",
      "source": [
        "X=[]\n",
        "y=[]\n",
        "\n",
        "for categories, label in training_data:\n",
        "    X.append(categories)\n",
        "    y.append(label)\n",
        "X= np.array(X).reshape(lenofimage,-1)"
      ],
      "metadata": {
        "id": "BepkS8_sffBe"
      },
      "execution_count": 8,
      "outputs": []
    },
    {
      "cell_type": "code",
      "source": [
        "X_train, X_test, y_train, y_test = train_test_split(X, y, test_size=0.30) \n",
        "GNBclf = GaussianNB()\n",
        "model = GNBclf.fit(X_train, y_train)\n",
        "preds = GNBclf.predict(X_test)"
      ],
      "metadata": {
        "id": "Wgwbsx6LfiSK"
      },
      "execution_count": 9,
      "outputs": []
    },
    {
      "cell_type": "code",
      "source": [
        "prediction = model.predict(X_test)\n",
        "accuracy = model.score(X_test, y_test)\n",
        "\n",
        "print('Accuracy: ',accuracy)"
      ],
      "metadata": {
        "id": "_xl2r2dnfplp"
      },
      "execution_count": null,
      "outputs": []
    },
    {
      "cell_type": "code",
      "source": [
        "# print(\"Confusion matrix:\",)\n",
        "print(\"Precision:\",metrics.precision_score(y_test, prediction, pos_label='positive',average= 'weighted'))\n",
        "print(\"Recall:\",metrics.recall_score(y_test, prediction,pos_label='positive',average= 'weighted'))"
      ],
      "metadata": {
        "id": "SJRsid18g1Ap"
      },
      "execution_count": null,
      "outputs": []
    }
  ]
}