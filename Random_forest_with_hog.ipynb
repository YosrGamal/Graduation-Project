{
  "nbformat": 4,
  "nbformat_minor": 0,
  "metadata": {
    "colab": {
      "provenance": []
    },
    "kernelspec": {
      "name": "python3",
      "display_name": "Python 3"
    },
    "language_info": {
      "name": "python"
    }
  },
  "cells": [
    {
      "cell_type": "code",
      "execution_count": 33,
      "metadata": {
        "id": "sRfcGt-Ggg6D",
        "outputId": "199b989c-b381-45e9-9fc6-bd39ebb48b4d",
        "colab": {
          "base_uri": "https://localhost:8080/"
        }
      },
      "outputs": [
        {
          "output_type": "stream",
          "name": "stdout",
          "text": [
            "Drive already mounted at /content/drive; to attempt to forcibly remount, call drive.mount(\"/content/drive\", force_remount=True).\n"
          ]
        }
      ],
      "source": [
        "import os\n",
        "import numpy as np\n",
        "import cv2\n",
        "import pickle\n",
        "import random\n",
        "from sklearn.ensemble import RandomForestClassifier\n",
        "from sklearn.model_selection import train_test_split\n",
        "from sklearn.ensemble import RandomForestClassifier\n",
        "from sklearn.naive_bayes import GaussianNB\n",
        "from sklearn.model_selection import train_test_split\n",
        "from sklearn.svm import SVC\n",
        "from sklearn import metrics\n",
        "from skimage.io import imread\n",
        "from skimage.transform import resize\n",
        "from skimage.feature import hog\n",
        "from skimage import exposure\n",
        "import matplotlib.pyplot as plt\n",
        "from argparse import ArgumentParser\n",
        "import argparse\n",
        "from sklearn.svm import LinearSVC\n",
        "from skimage import feature\n",
        "\n",
        "from google.colab import drive\n",
        "drive.mount('/content/drive')"
      ]
    },
    {
      "cell_type": "code",
      "source": [
        "from google.colab import drive\n",
        "drive.mount('/content/drive')"
      ],
      "metadata": {
        "colab": {
          "base_uri": "https://localhost:8080/"
        },
        "id": "4AdUu0AFgjYI",
        "outputId": "29de2004-a86c-40a6-9838-bdef2a7ef31c"
      },
      "execution_count": 34,
      "outputs": [
        {
          "output_type": "stream",
          "name": "stdout",
          "text": [
            "Drive already mounted at /content/drive; to attempt to forcibly remount, call drive.mount(\"/content/drive\", force_remount=True).\n"
          ]
        }
      ]
    },
    {
      "cell_type": "code",
      "source": [
        "dir = '/content/drive/Shareddrives/Graduation Project/Dataset/Teeth images'\n",
        "categories = ['Afradapis', 'Elephants', 'Hyrax' , 'Masrasector' , 'Sharks']\n",
        "images = []\n",
        "data = []"
      ],
      "metadata": {
        "id": "pA72KMJQglQ4"
      },
      "execution_count": 35,
      "outputs": []
    },
    {
      "cell_type": "code",
      "source": [
        "for category in categories:\n",
        "    path = os.path.join(dir,category)\n",
        "    label = categories.index(category)\n",
        "    \n",
        "    for img in os.listdir(path):\n",
        "        imgpath = os.path.join(path,img)\n",
        "        datimage = cv2.imread(imgpath,0)\n",
        "        datimage = cv2.resize(datimage,(128, 256))\n",
        "        image = np.array(datimage).flatten()\n",
        "        hog_desc = feature.hog(datimage, orientations=9, pixels_per_cell=(8, 8),cells_per_block=(2, 2), transform_sqrt=True, block_norm='L2-Hys')\n",
        "        \n",
        "        data.append([hog_desc,label])\n",
        "        \n",
        "pick_in = open('feature_extraction.pickle','wb')\n",
        "pickle.dump(data,pick_in)\n",
        "pick_in.close()"
      ],
      "metadata": {
        "id": "bbgZYK4MgnAs"
      },
      "execution_count": 36,
      "outputs": []
    },
    {
      "cell_type": "code",
      "source": [
        "pick_in = open('feature_extraction.pickle','rb')\n",
        "data = pickle.load(pick_in)\n",
        "pick_in.close()"
      ],
      "metadata": {
        "id": "fJZT8ZbXgpB6"
      },
      "execution_count": 37,
      "outputs": []
    },
    {
      "cell_type": "code",
      "source": [
        "random.shuffle(data)\n",
        "features = []\n",
        "labels = []\n",
        "\n",
        "for feature, label in data:\n",
        "    features.append(feature)\n",
        "    labels.append(label)\n",
        "\n",
        "\n",
        "xtrain, xtest, ytrain, ytest = train_test_split(features, labels, test_size=0.3) # 70% training and 30% test\n",
        "\n",
        "clf=RandomForestClassifier(n_estimators=100)\n",
        "\n",
        "clf.fit(xtrain,ytrain)\n",
        "y_pred=clf.predict(xtest)"
      ],
      "metadata": {
        "id": "D__CBU2Kkz2x"
      },
      "execution_count": 38,
      "outputs": []
    },
    {
      "cell_type": "code",
      "source": [
        "print(\"Accuracy:\",metrics.accuracy_score(ytest, y_pred))"
      ],
      "metadata": {
        "colab": {
          "base_uri": "https://localhost:8080/"
        },
        "id": "wuWBHiapk2Lv",
        "outputId": "e76d66aa-55d6-4f8a-8aa9-8b0b1885b030"
      },
      "execution_count": 40,
      "outputs": [
        {
          "output_type": "stream",
          "name": "stdout",
          "text": [
            "Accuracy: 0.7692307692307693\n"
          ]
        }
      ]
    },
    {
      "cell_type": "code",
      "source": [
        "# print(\"Confusion matrix:\",)\n",
        "print(\"Precision:\",metrics.precision_score(ytest, y_pred, pos_label='positive',average= 'weighted'))\n",
        "print(\"Recall:\",metrics.recall_score(ytest, y_pred,pos_label='positive',average= 'weighted'))"
      ],
      "metadata": {
        "colab": {
          "base_uri": "https://localhost:8080/"
        },
        "id": "pjdrwCNHw6Q8",
        "outputId": "68d28fc3-86aa-4f2a-f113-b5e2bada6275"
      },
      "execution_count": 42,
      "outputs": [
        {
          "output_type": "stream",
          "name": "stdout",
          "text": [
            "Precision: 0.7979232416948678\n",
            "Recall: 0.7692307692307693\n"
          ]
        },
        {
          "output_type": "stream",
          "name": "stderr",
          "text": [
            "/usr/local/lib/python3.8/dist-packages/sklearn/metrics/_classification.py:1370: UserWarning: Note that pos_label (set to 'positive') is ignored when average != 'binary' (got 'weighted'). You may use labels=[pos_label] to specify a single positive class.\n",
            "  warnings.warn(\n",
            "/usr/local/lib/python3.8/dist-packages/sklearn/metrics/_classification.py:1318: UndefinedMetricWarning: Precision is ill-defined and being set to 0.0 in labels with no predicted samples. Use `zero_division` parameter to control this behavior.\n",
            "  _warn_prf(average, modifier, msg_start, len(result))\n",
            "/usr/local/lib/python3.8/dist-packages/sklearn/metrics/_classification.py:1370: UserWarning: Note that pos_label (set to 'positive') is ignored when average != 'binary' (got 'weighted'). You may use labels=[pos_label] to specify a single positive class.\n",
            "  warnings.warn(\n"
          ]
        }
      ]
    }
  ]
}