import os
import numpy as np
import cv2
import pickle
import random
from sklearn.model_selection import train_test_split
from sklearn.svm import SVC
from sklearn import metrics
from skimage.io import imread
from skimage.transform import resize
from skimage.feature import hog
from skimage import exposure
import matplotlib.pyplot as plt
from argparse import ArgumentParser
import argparse
from sklearn.svm import LinearSVC
from skimage import feature 

