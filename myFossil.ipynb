{
  "cells": [
    {
      "cell_type": "code",
      "execution_count": 3,
      "metadata": {
        "id": "M5Ju4fFQQdDP"
      },
      "outputs": [],
      "source": [
        "# Import the necessary packages\n",
        "from google.colab import drive\n",
        "from google.colab.patches import cv2_imshow\n",
        "from tensorflow.keras.preprocessing.image import ImageDataGenerator\n",
        "from tensorflow.keras.preprocessing.image import img_to_array\n",
        "from tensorflow.keras.preprocessing.image import load_img\n",
        "from tensorflow.keras.optimizers import RMSprop,SGD,Adam\n",
        "from sklearn.svm import SVR \n",
        "from imutils import paths\n",
        "import cv2\n",
        "import matplotlib.pyplot as plt\n",
        "import numpy as np\n",
        "import os\n",
        "import skimage.io\n",
        "import skimage.color\n",
        "import skimage.filters\n",
        "import tensorflow as tf\n",
        "import argparse\n"
      ]
    },
    {
      "cell_type": "markdown",
      "metadata": {
        "id": "C2BG89P9Q1Pm"
      },
      "source": [
        "**Image Segmentation**"
      ]
    },
    {
      "cell_type": "code",
      "execution_count": null,
      "metadata": {},
      "outputs": [],
      "source": []
    },
    {
      "cell_type": "markdown",
      "metadata": {
        "id": "C0Dq96D0S60S"
      },
      "source": [
        "Make a Histogram of RGB colors 0-255 each"
      ]
    },
    {
      "cell_type": "code",
      "execution_count": 1,
      "metadata": {
        "colab": {
          "base_uri": "https://localhost:8080/",
          "height": 235
        },
        "id": "ZNAnatfcS-XA",
        "outputId": "2f857921-bc24-42da-fdff-ae201908d79e"
      },
      "outputs": [],
      "source": [
        "\n",
        "# image = skimage.io.imread(fname=\"/content/sharktooth.jpg\", as_gray=True)\n",
        "\n",
        "# # display the image\n",
        "# fig, ax = plt.subplots()\n",
        "# plt.imshow(image, cmap=\"gray\")"
      ]
    },
    {
      "cell_type": "markdown",
      "metadata": {
        "id": "RXrcHuoFS-kQ"
      },
      "source": [
        "Calculate Area of teeth size"
      ]
    },
    {
      "cell_type": "code",
      "execution_count": null,
      "metadata": {
        "id": "R0qi2QyFTI8i"
      },
      "outputs": [],
      "source": []
    },
    {
      "cell_type": "markdown",
      "metadata": {
        "id": "0CjFYyiwTJTt"
      },
      "source": [
        "# **Moment invariant**"
      ]
    },
    {
      "cell_type": "markdown",
      "metadata": {
        "id": "XCK2tsTowP4n"
      },
      "source": [
        "Reading image file"
      ]
    },
    {
      "cell_type": "code",
      "execution_count": 4,
      "metadata": {},
      "outputs": [],
      "source": [
        "img1 = cv2.imread(\"Segmented_Teeth/segmented tooth1_1.png\")\n",
        "img2 = cv2.imread(\"Segmented_Teeth/segmented tooth1_2.png\")"
      ]
    },
    {
      "cell_type": "code",
      "execution_count": 5,
      "metadata": {},
      "outputs": [],
      "source": [
        "img1 = cv2.cvtColor(img1, cv2.COLOR_BGR2GRAY)\n",
        "img2 = cv2.cvtColor(img2, cv2.COLOR_BGR2GRAY)"
      ]
    },
    {
      "cell_type": "code",
      "execution_count": 9,
      "metadata": {},
      "outputs": [
        {
          "name": "stdout",
          "output_type": "stream",
          "text": [
            "ORIGINAL MOMENTS for img 1: [9.31673872e-04 3.94367501e-07 1.16589393e-10 1.50416801e-11\n",
            " 6.29560476e-22 9.44115823e-15 2.07860839e-23]\n",
            "ORIGINAL MOMENTS for img 2: [9.32487012e-04 4.19574583e-07 7.85269033e-11 1.14095140e-11\n",
            " 3.37913841e-22 7.05015323e-15 4.94653700e-23]\n"
          ]
        }
      ],
      "source": [
        "moments1 = cv2.HuMoments(cv2.moments(img1)).flatten()\n",
        "print(\"ORIGINAL MOMENTS for img 1: {}\".format(moments1))\n",
        "\n",
        "moments2 = cv2.HuMoments(cv2.moments(img2)).flatten()\n",
        "print(\"ORIGINAL MOMENTS for img 2: {}\".format(moments2))\n"
      ]
    },
    {
      "cell_type": "code",
      "execution_count": 19,
      "metadata": {},
      "outputs": [
        {
          "name": "stdout",
          "output_type": "stream",
          "text": [
            "log transformation for moments1 [ 3.03073608  6.40409888  9.93334096 10.82270365 21.20096254 14.02497472\n",
            " 22.68222732]\n",
            "log transformation for moments2 [ 3.03035721  6.37719083 10.10498153 10.94273285 21.47119402 14.15180144\n",
            " 22.30569874]\n"
          ]
        }
      ],
      "source": [
        "# for i in range(0,7):\n",
        "#    moments1[i] = -np.sign(1.0, moments1[i])*np.math.log10(np.abs(moments1[i]))\n",
        "   \n",
        "#-1* copysign(1.0, huMoments[i]) * log10(abs(huMoments[i]))\n",
        "\n",
        "lmoment1 = np.abs(np.log10(moments1))\n",
        "print('log transformation for moments1',lmoment1)\n",
        "lmoment2 = np.abs(np.log10(moments2))\n",
        "print('log transformation for moments2', lmoment2)"
      ]
    },
    {
      "cell_type": "code",
      "execution_count": 22,
      "metadata": {},
      "outputs": [
        {
          "name": "stdout",
          "output_type": "stream",
          "text": [
            "Distance between moment1 and moment2 0.5248576217835638\n"
          ]
        }
      ],
      "source": [
        "dist = np.linalg.norm(lmoment1 - lmoment2)\n",
        "print('Distance between moment1 and moment2',dist)"
      ]
    }
  ],
  "metadata": {
    "colab": {
      "collapsed_sections": [],
      "provenance": []
    },
    "kernelspec": {
      "display_name": "Python 3.10.2 64-bit",
      "language": "python",
      "name": "python3"
    },
    "language_info": {
      "codemirror_mode": {
        "name": "ipython",
        "version": 3
      },
      "file_extension": ".py",
      "mimetype": "text/x-python",
      "name": "python",
      "nbconvert_exporter": "python",
      "pygments_lexer": "ipython3",
      "version": "3.10.2"
    },
    "vscode": {
      "interpreter": {
        "hash": "c621e5a433137a73884b017f14c16a9e14b23ff65621e82f0e85b98740ce3bcb"
      }
    }
  },
  "nbformat": 4,
  "nbformat_minor": 0
}
