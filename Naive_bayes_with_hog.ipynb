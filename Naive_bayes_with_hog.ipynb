{
  "nbformat": 4,
  "nbformat_minor": 0,
  "metadata": {
    "colab": {
      "provenance": []
    },
    "kernelspec": {
      "name": "python3",
      "display_name": "Python 3"
    },
    "language_info": {
      "name": "python"
    }
  },
  "cells": [
    {
      "cell_type": "code",
      "execution_count": null,
      "metadata": {
        "id": "QNs85jDkdzpx"
      },
      "outputs": [],
      "source": [
        "import os\n",
        "import numpy as np\n",
        "import cv2\n",
        "import pickle\n",
        "import random\n",
        "from sklearn.naive_bayes import GaussianNB\n",
        "from sklearn.model_selection import train_test_split\n",
        "from sklearn.svm import SVC\n",
        "from sklearn import metrics\n",
        "from skimage.io import imread\n",
        "from skimage.transform import resize\n",
        "from skimage.feature import hog\n",
        "from skimage import exposure\n",
        "import matplotlib.pyplot as plt\n",
        "from argparse import ArgumentParser\n",
        "import argparse\n",
        "from sklearn.svm import LinearSVC\n",
        "from skimage import feature"
      ]
    },
    {
      "cell_type": "code",
      "source": [
        "from google.colab import drive\n",
        "drive.mount('/content/drive')"
      ],
      "metadata": {
        "id": "lpUy6XtnwW-I",
        "colab": {
          "base_uri": "https://localhost:8080/"
        },
        "outputId": "2ec776f9-56ec-421b-e545-6c155758293a"
      },
      "execution_count": null,
      "outputs": [
        {
          "output_type": "stream",
          "name": "stdout",
          "text": [
            "Drive already mounted at /content/drive; to attempt to forcibly remount, call drive.mount(\"/content/drive\", force_remount=True).\n"
          ]
        }
      ]
    },
    {
      "cell_type": "code",
      "source": [
        "dir = '/content/drive/Shareddrives/Graduation Project/Dataset/Teeth images'\n",
        "categories = ['Afradapis', 'Elephants', 'Hyrax' , 'Masrasector' , 'Sharks']\n",
        "images = []\n",
        "data = []"
      ],
      "metadata": {
        "id": "l2NOeZbseEcu"
      },
      "execution_count": null,
      "outputs": []
    },
    {
      "cell_type": "code",
      "source": [
        "for category in categories:\n",
        "    path = os.path.join(dir,category)\n",
        "    label = categories.index(category)\n",
        "    \n",
        "    for img in os.listdir(path):\n",
        "        imgpath = os.path.join(path,img)\n",
        "        datimage = cv2.imread(imgpath,0)\n",
        "        datimage = cv2.resize(datimage,(128, 256))\n",
        "        image = np.array(datimage).flatten()\n",
        "        hog_desc = feature.hog(datimage, orientations=9, pixels_per_cell=(8, 8),cells_per_block=(2, 2), transform_sqrt=True, block_norm='L2-Hys')\n",
        "        \n",
        "        data.append([hog_desc,label])\n",
        "        \n",
        "pick_in = open('feature_extraction.pickle','wb')\n",
        "pickle.dump(data,pick_in)\n",
        "pick_in.close()"
      ],
      "metadata": {
        "id": "OVROICioeHYv"
      },
      "execution_count": null,
      "outputs": []
    },
    {
      "cell_type": "code",
      "source": [
        "pick_in = open('feature_extraction.pickle','rb')\n",
        "data = pickle.load(pick_in)\n",
        "pick_in.close()"
      ],
      "metadata": {
        "id": "rN3wAPkIeKdI"
      },
      "execution_count": null,
      "outputs": []
    },
    {
      "cell_type": "code",
      "source": [
        "random.shuffle(data)\n",
        "features = []\n",
        "labels = []\n",
        "\n",
        "for feature, label in data:\n",
        "    features.append(feature)\n",
        "    labels.append(label)\n",
        "\n",
        "#xtrain,xtest,ytrain,ytest=train_test_split(features,labels,test_size=0.30)\n",
        "xtrain, xtest, ytrain, ytest =train_test_split(\n",
        "   features,labels,test_size = 0.30, \n",
        ")\n",
        "#model = SVC(C=1,kernel='linear', gamma='auto')\n",
        "#model.fit(xtrain,ytrain)\n",
        "\n",
        "\n",
        "GNBclf = GaussianNB()\n",
        "model = GNBclf.fit(xtrain, ytrain)\n",
        "preds = GNBclf.predict(xtest)\n",
        "\n",
        "#svm_model=open('svm_model.sav','wb')\n",
        "#pickle.dump(model,svm_model)\n",
        "#svm_model.close()"
      ],
      "metadata": {
        "id": "rjmzR7VMeN-6"
      },
      "execution_count": null,
      "outputs": []
    },
    {
      "cell_type": "code",
      "source": [
        "prediction = model.predict(xtest)\n",
        "accuracy = model.score(xtest, ytest)\n",
        "\n",
        "print('Accuracy: ',accuracy)"
      ],
      "metadata": {
        "colab": {
          "base_uri": "https://localhost:8080/"
        },
        "id": "Mf4Y5y7meQQi",
        "outputId": "c92d468e-9dfe-4876-beee-27d528d2ad0c"
      },
      "execution_count": null,
      "outputs": [
        {
          "output_type": "stream",
          "name": "stdout",
          "text": [
            "Accuracy:  0.7013574660633484\n"
          ]
        }
      ]
    },
    {
      "cell_type": "code",
      "source": [
        "# print(\"Confusion matrix:\",)\n",
        "print(\"Precision:\",metrics.precision_score(ytest, prediction, pos_label='positive',average= 'weighted'))\n",
        "print(\"Recall:\",metrics.recall_score(ytest, prediction,pos_label='positive',average= 'weighted'))"
      ],
      "metadata": {
        "colab": {
          "base_uri": "https://localhost:8080/"
        },
        "id": "9jt0rrSPeTon",
        "outputId": "9c9feb2d-5812-4938-f6ec-9033af01f636"
      },
      "execution_count": null,
      "outputs": [
        {
          "output_type": "stream",
          "name": "stdout",
          "text": [
            "Precision: 0.770988807139771\n",
            "Recall: 0.7013574660633484\n"
          ]
        },
        {
          "output_type": "stream",
          "name": "stderr",
          "text": [
            "/usr/local/lib/python3.8/dist-packages/sklearn/metrics/_classification.py:1370: UserWarning: Note that pos_label (set to 'positive') is ignored when average != 'binary' (got 'weighted'). You may use labels=[pos_label] to specify a single positive class.\n",
            "  warnings.warn(\n",
            "/usr/local/lib/python3.8/dist-packages/sklearn/metrics/_classification.py:1318: UndefinedMetricWarning: Precision is ill-defined and being set to 0.0 in labels with no predicted samples. Use `zero_division` parameter to control this behavior.\n",
            "  _warn_prf(average, modifier, msg_start, len(result))\n",
            "/usr/local/lib/python3.8/dist-packages/sklearn/metrics/_classification.py:1370: UserWarning: Note that pos_label (set to 'positive') is ignored when average != 'binary' (got 'weighted'). You may use labels=[pos_label] to specify a single positive class.\n",
            "  warnings.warn(\n"
          ]
        }
      ]
    }
  ]
}